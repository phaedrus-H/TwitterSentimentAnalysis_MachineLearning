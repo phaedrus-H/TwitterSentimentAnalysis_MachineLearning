{
 "cells": [
  {
   "cell_type": "code",
   "execution_count": 186,
   "metadata": {
    "collapsed": false
   },
   "outputs": [],
   "source": [
    "import re\n",
    "import bs4\n",
    "import nltk\n",
    "import numpy\n",
    "import pandas\n",
    "import string\n",
    "import sklearn\n",
    "\n",
    "from bs4 import BeautifulSoup\n",
    "\n",
    "from nltk.corpus import stopwords\n",
    "from nltk.stem import SnowballStemmer\n",
    "from nltk.tokenize import RegexpTokenizer\n",
    "\n",
    "from sklearn.metrics import accuracy_score\n",
    "from sklearn.metrics import classification_report\n",
    "\n",
    "from sklearn.svm import LinearSVC\n",
    "from sklearn.pipeline import Pipeline\n",
    "from sklearn.model_selection import KFold\n",
    "from sklearn.naive_bayes import BernoulliNB\n",
    "from sklearn.naive_bayes import MultinomialNB\n",
    "from sklearn.multiclass import OneVsRestClassifier\n",
    "from sklearn.feature_extraction.text import TfidfVectorizer\n",
    "from sklearn.linear_model.logistic import LogisticRegression\n",
    "from sklearn.ensemble import RandomForestClassifier\n",
    "from sklearn.ensemble import AdaBoostClassifier"
   ]
  },
  {
   "cell_type": "code",
   "execution_count": 187,
   "metadata": {
    "collapsed": false
   },
   "outputs": [],
   "source": [
    "contactionList = {\n",
    "  \"ain't\": \"am not\",\n",
    "  \"aren't\": \"are not\",\n",
    "  \"can't\": \"cannot\",\n",
    "  \"'cause\": \"because\",\n",
    "  \"could've\": \"could have\",\n",
    "  \"couldn't\": \"could not\",\n",
    "  \"didn't\": \"did not\",\n",
    "  \"doesn't\": \"does not\",\n",
    "  \"don't\": \"do not\",\n",
    "  \"hadn't\": \"had not\",\n",
    "  \"hasn't\": \"has not\",\n",
    "  \"haven't\": \"have not\",\n",
    "  \"he'd\": \"he would\",\n",
    "  \"he'll\": \"he will\",\n",
    "  \"he's\": \"he is\",\n",
    "  \"how'll\": \"how will\",\n",
    "  \"how's\": \"how is\",\n",
    "  \"I'd\": \"I would\",\n",
    "  \"I'll\": \"I will\",\n",
    "  \"I'm\": \"I am\",\n",
    "  \"I've\": \"I have\",\n",
    "  \"isn't\": \"is not\",\n",
    "  \"it'll\": \"it will\",\n",
    "  \"it's\": \"it is\",\n",
    "  \"let's\": \"let us\",\n",
    "  \"might've\": \"might have\",\n",
    "  \"must've\": \"must have\",\n",
    "  \"mustn't\": \"must not\",\n",
    "  \"needn't\": \"need not\",\n",
    "  \"never'll\":\"never will\",\n",
    "  \"she'd\": \"she would\",\n",
    "  \"she'll\": \"she will\",\n",
    "  \"she's\": \"she is\",\n",
    "  \"should've\": \"should have\",\n",
    "  \"shouldn't\": \"should not\",\n",
    "  \"that'd\": \"that would\",\n",
    "  \"that's\": \"that is\",\n",
    "  \"there's\": \"there is\",\n",
    "  \"they'd\": \"they would\",\n",
    "  \"they'll\": \"they will\",\n",
    "  \"they're\": \"they are\",\n",
    "  \"they've\": \"they have\",\n",
    "  \"wasn't\": \"was not\",\n",
    "  \"we'll\": \"we will\",\n",
    "  \"we're\": \"we are\",\n",
    "  \"we've\": \"we have\",\n",
    "  \"weren't\": \"were not\",\n",
    "  \"what'll\": \"what will\",\n",
    "  \"what're\": \"what are\",\n",
    "  \"what's\": \"what is\",\n",
    "  \"what've\": \"what have\",\n",
    "  \"when's\": \"when is\",\n",
    "  \"where'd\": \"where did\",\n",
    "  \"where's\": \"where is\",\n",
    "  \"who'll\": \"who will\",\n",
    "  \"who's\": \"who is\",\n",
    "  \"will've\": \"will have\",\n",
    "  \"won't\": \"will not\",\n",
    "  \"would've\": \"would have\",\n",
    "  \"wouldn't\": \"would not\",\n",
    "  \"you'd\": \"you had\",\n",
    "  \"you'll\": \"you will\",\n",
    "  \"you're\": \"you are\",\n",
    "  \"you've\": \"you have\"\n",
    "}\n",
    "\n",
    "def expandContractions(text):\n",
    "    c_re = re.compile('(%s)' % '|'.join(contactionList.keys()))\n",
    "    def replace(match):\n",
    "        return contactionList[match.group(0)]\n",
    "    return c_re.sub(replace, text)"
   ]
  },
  {
   "cell_type": "code",
   "execution_count": 188,
   "metadata": {
    "collapsed": true
   },
   "outputs": [],
   "source": [
    "def setstopwords():\n",
    "    stop_words = stopwords.words('english')\n",
    "    stop_words.append('atuser')\n",
    "    stop_words.append('retweet')\n",
    "    stop_words.append('\\'s')\n",
    "    stop_words.append('URL')\n",
    "    stop_words.append('obama')\n",
    "    stop_words.append('romney')\n",
    "    stop_words.remove('no')\n",
    "    stop_words.remove('nor')\n",
    "    stop_words.remove('not')\n",
    "    return stop_words"
   ]
  },
  {
   "cell_type": "code",
   "execution_count": 189,
   "metadata": {
    "collapsed": true
   },
   "outputs": [],
   "source": [
    "def preprocessing(tweet):\n",
    "    stop_words = setstopwords()\n",
    "    stemmer = SnowballStemmer(\"english\")\n",
    "    try:\n",
    "        tweet = re.sub('[0-9]+', ' ', tweet)\n",
    "        tweet = BeautifulSoup(tweet, \"lxml\")\n",
    "        tweet = tweet.get_text()\n",
    "        tweet = re.sub('@[^\\s]+','ATUSER',tweet)\n",
    "        tweet = re.sub('RT','RETWEET', tweet)\n",
    "        tweet = tweet.lower()\n",
    "        tweet = expandContractions(tweet)\n",
    "        tweet = re.sub('((www\\.[^\\s]+)|(https?://[^\\s]+)|(http?://[^\\s]+))','URL',tweet)\n",
    "        tweet = re.sub('[\\s]+', ' ', tweet)\n",
    "        tweet = re.sub(r'#([^\\s]+)', r'\\1', tweet)\n",
    "        tweet = re.sub(r'(.)\\1+', r'\\1\\1', tweet) \n",
    "        tweet = re.sub(r'[^\\x00-\\x7F]+',' ', tweet)\n",
    "        tweet = re.sub('['+string.punctuation+']', ' ', tweet)\n",
    "        tweet = tweet.strip('\\'\"')\n",
    "        tweet = \" \".join(tweet.split())\n",
    "        tweet = \" \".join([word for word in tweet.split() if word not in stop_words])\n",
    "        tweet = \" \".join([ stemmer.stem(word) for word in tweet.split()])\n",
    "        return tweet\n",
    "    except:\n",
    "        return []"
   ]
  },
  {
   "cell_type": "code",
   "execution_count": 190,
   "metadata": {
    "collapsed": true
   },
   "outputs": [],
   "source": [
    "def getTweets(dataset):\n",
    "    tweets = []\n",
    "    tweet_class = []\n",
    "    for index, row in dataset.iterrows():\n",
    "        sentiment_class = row['Class']\n",
    "        if sentiment_class == 1 or sentiment_class == -1 or sentiment_class == 0:\n",
    "            tokenized_tweet = preprocessing(row['Anootated tweet'])\n",
    "            if len(tokenized_tweet) > 0:\n",
    "                tweets.append(tokenized_tweet)\n",
    "                tweet_class.append(sentiment_class)\n",
    "    return [tweets,tweet_class]"
   ]
  },
  {
   "cell_type": "code",
   "execution_count": 191,
   "metadata": {
    "collapsed": false
   },
   "outputs": [],
   "source": [
    "def buildclassifier(tweets,classifier):\n",
    "    kf = KFold(10)\n",
    "    for training_data, testing_data in kf.split(tweets):\n",
    "        testing_dataset = tweets[testing_data[0]:testing_data[len(testing_data)-1]]\n",
    "        training_dataset = None\n",
    "        if testing_data[0] == 0:\n",
    "            training_dataset = tweets[training_data[0]:training_data[len(training_data)-1]]\n",
    "        else:\n",
    "            training_dataset1 = tweets[training_data[0]:training_data[testing_data[0]-1]]\n",
    "            training_dataset2 = tweets[testing_data[len(testing_data)-1]+1:]\n",
    "            training_dataset = training_dataset1.append(training_dataset2)\n",
    "        [train_tweets,train_tweet_class] = getTweets(training_dataset)\n",
    "        classifier.fit(train_tweets,train_tweet_class)"
   ]
  },
  {
   "cell_type": "code",
   "execution_count": 192,
   "metadata": {
    "collapsed": true
   },
   "outputs": [],
   "source": [
    "def classify(classifier,test):\n",
    "    [test_tweets,test_tweet_class] = getTweets(test)\n",
    "    prediction = classifier.predict(test_tweets)\n",
    "    report = classification_report(test_tweet_class, prediction)\n",
    "    accuracy = accuracy_score(test_tweet_class, prediction)\n",
    "    print(report)\n",
    "    print('Accuracy : ', accuracy)\n",
    "    print('======================================================')"
   ]
  },
  {
   "cell_type": "code",
   "execution_count": 193,
   "metadata": {
    "collapsed": true
   },
   "outputs": [],
   "source": [
    "def LinearSVCClassifier(train,test):\n",
    "    classifier = Pipeline([\n",
    "                ('vectorizer', TfidfVectorizer(min_df=10,max_df=0.8,sublinear_tf=True,use_idf=True)),\n",
    "                ('clf', OneVsRestClassifier(LinearSVC()))])\n",
    "    print('Linear SVM')\n",
    "    buildclassifier(train,classifier)\n",
    "    classify(classifier,test)"
   ]
  },
  {
   "cell_type": "code",
   "execution_count": 169,
   "metadata": {
    "collapsed": true
   },
   "outputs": [],
   "source": [
    "def LogisticRegressionClassifier(train,test):\n",
    "    classifier = Pipeline([\n",
    "                ('vectorizer', TfidfVectorizer(min_df=10,max_df=0.8,sublinear_tf=True,use_idf=True)),\n",
    "                ('clf', LogisticRegression())])\n",
    "    print('Logistic Regression')\n",
    "    buildclassifier(train,classifier)\n",
    "    classify(classifier,test)"
   ]
  },
  {
   "cell_type": "code",
   "execution_count": 170,
   "metadata": {
    "collapsed": true
   },
   "outputs": [],
   "source": [
    "def BernoulliNBClassifier(train,test):\n",
    "    classifier = Pipeline([\n",
    "                ('vectorizer', TfidfVectorizer(min_df=10,max_df=0.8,sublinear_tf=True,use_idf=True)),\n",
    "                ('clf', BernoulliNB())])\n",
    "    print('Bernoulli NB')\n",
    "    buildclassifier(train,classifier)\n",
    "    classify(classifier,test)"
   ]
  },
  {
   "cell_type": "code",
   "execution_count": 171,
   "metadata": {
    "collapsed": true
   },
   "outputs": [],
   "source": [
    "def MultinomialNBClassifier(train,test):\n",
    "    classifier = Pipeline([\n",
    "                ('vectorizer', TfidfVectorizer(min_df=10,max_df=0.8,sublinear_tf=True,use_idf=True)),\n",
    "                ('clf', MultinomialNB())])\n",
    "    print('Multinomial NB')\n",
    "    buildclassifier(train,classifier)\n",
    "    classify(classifier,test)"
   ]
  },
  {
   "cell_type": "code",
   "execution_count": null,
   "metadata": {
    "collapsed": true
   },
   "outputs": [],
   "source": [
    "def RandomForest(train,test):\n",
    "    classifier = Pipeline([\n",
    "                ('vectorizer', TfidfVectorizer(min_df=10,max_df=0.8,sublinear_tf=True,use_idf=True)),\n",
    "                ('clf', RandomForestClassifier(n_estimators=10))])\n",
    "    print('RandomForestClassifier')\n",
    "    buildclassifier(train,classifier)\n",
    "    classify(classifier,test)"
   ]
  },
  {
   "cell_type": "code",
   "execution_count": 197,
   "metadata": {
    "collapsed": true
   },
   "outputs": [],
   "source": [
    "def AdaBoost(train,test):\n",
    "    classifier = Pipeline([\n",
    "                ('vectorizer', TfidfVectorizer(min_df=10,max_df=0.8,sublinear_tf=True,use_idf=True)),\n",
    "                ('clf', AdaBoostClassifier(n_estimators=100))])\n",
    "    print('AdaBoostClassifier')\n",
    "    buildclassifier(train,classifier)\n",
    "    classify(classifier,test)"
   ]
  },
  {
   "cell_type": "code",
   "execution_count": null,
   "metadata": {
    "collapsed": true
   },
   "outputs": [],
   "source": [
    "def NaiveBayesClassifierNLTK(train,test):\n",
    "    "
   ]
  },
  {
   "cell_type": "code",
   "execution_count": 198,
   "metadata": {
    "collapsed": true
   },
   "outputs": [],
   "source": [
    "def ObamaClassifiers(train,test):\n",
    "    print('======================================================')\n",
    "    print('               Classify Obama Tweets                  ')\n",
    "    print('======================================================')\n",
    "    NaiveBayesClassifierNLTK(train,test)\n",
    "    LinearSVCClassifier(train,test)\n",
    "    LogisticRegressionClassifier(train,test)\n",
    "    BernoulliNBClassifier(train,test)\n",
    "    MultinomialNBClassifier(train,test)\n",
    "    RandomForest(train,test)\n",
    "    AdaBoost(train,test)\n",
    "    print('======================================================')\n",
    "    print('======================================================')"
   ]
  },
  {
   "cell_type": "code",
   "execution_count": 199,
   "metadata": {
    "collapsed": true
   },
   "outputs": [],
   "source": [
    "def RomneyClassifiers(train,test):\n",
    "    print('======================================================')\n",
    "    print('               Classify Romney Tweets                 ')\n",
    "    print('======================================================')\n",
    "    LinearSVCClassifier(train,test)\n",
    "    LogisticRegressionClassifier(train,test)\n",
    "    BernoulliNBClassifier(train,test)\n",
    "    MultinomialNBClassifier(train,test)\n",
    "    RandomForest(train,test)\n",
    "    AdaBoost(train,test)\n",
    "    print('======================================================')\n",
    "    print('======================================================')"
   ]
  },
  {
   "cell_type": "code",
   "execution_count": 200,
   "metadata": {
    "collapsed": false
   },
   "outputs": [
    {
     "name": "stdout",
     "output_type": "stream",
     "text": [
      "======================================================\n",
      "               Classify Obama Tweets                  \n",
      "======================================================\n",
      "Linear SVM\n",
      "             precision    recall  f1-score   support\n",
      "\n",
      "       -1.0       0.54      0.56      0.55       143\n",
      "        0.0       0.60      0.54      0.57       182\n",
      "        1.0       0.50      0.54      0.52       130\n",
      "\n",
      "avg / total       0.55      0.55      0.55       455\n",
      "\n",
      "Accuracy :  0.547252747253\n",
      "======================================================\n",
      "Logistic Regression\n",
      "             precision    recall  f1-score   support\n",
      "\n",
      "       -1.0       0.52      0.55      0.53       143\n",
      "        0.0       0.59      0.56      0.58       182\n",
      "        1.0       0.52      0.53      0.52       130\n",
      "\n",
      "avg / total       0.55      0.55      0.55       455\n",
      "\n",
      "Accuracy :  0.547252747253\n",
      "======================================================\n",
      "Bernoulli NB\n",
      "             precision    recall  f1-score   support\n",
      "\n",
      "       -1.0       0.57      0.53      0.55       143\n",
      "        0.0       0.59      0.46      0.52       182\n",
      "        1.0       0.46      0.64      0.54       130\n",
      "\n",
      "avg / total       0.55      0.53      0.53       455\n",
      "\n",
      "Accuracy :  0.534065934066\n",
      "======================================================\n",
      "Multinomial NB\n",
      "             precision    recall  f1-score   support\n",
      "\n",
      "       -1.0       0.50      0.66      0.57       143\n",
      "        0.0       0.61      0.46      0.52       182\n",
      "        1.0       0.54      0.53      0.53       130\n",
      "\n",
      "avg / total       0.55      0.54      0.54       455\n",
      "\n",
      "Accuracy :  0.542857142857\n",
      "======================================================\n",
      "RandomForestClassifier\n",
      "             precision    recall  f1-score   support\n",
      "\n",
      "       -1.0       0.46      0.48      0.47       143\n",
      "        0.0       0.57      0.45      0.50       182\n",
      "        1.0       0.43      0.54      0.48       130\n",
      "\n",
      "avg / total       0.49      0.48      0.48       455\n",
      "\n",
      "Accuracy :  0.483516483516\n",
      "======================================================\n",
      "AdaBoostClassifier\n",
      "             precision    recall  f1-score   support\n",
      "\n",
      "       -1.0       0.48      0.38      0.43       143\n",
      "        0.0       0.46      0.54      0.50       182\n",
      "        1.0       0.42      0.40      0.41       130\n",
      "\n",
      "avg / total       0.45      0.45      0.45       455\n",
      "\n",
      "Accuracy :  0.452747252747\n",
      "======================================================\n",
      "======================================================\n",
      "======================================================\n",
      "======================================================\n",
      "               Classify Romney Tweets                 \n",
      "======================================================\n",
      "Linear SVM\n",
      "             precision    recall  f1-score   support\n",
      "\n",
      "       -1.0       0.75      0.70      0.73       493\n",
      "        0.0       0.33      0.46      0.39       185\n",
      "        1.0       0.54      0.41      0.47       172\n",
      "\n",
      "avg / total       0.62      0.59      0.60       850\n",
      "\n",
      "Accuracy :  0.591764705882\n",
      "======================================================\n",
      "Logistic Regression\n",
      "             precision    recall  f1-score   support\n",
      "\n",
      "       -1.0       0.70      0.82      0.75       493\n",
      "        0.0       0.32      0.32      0.32       185\n",
      "        1.0       0.65      0.33      0.44       172\n",
      "\n",
      "avg / total       0.61      0.61      0.60       850\n",
      "\n",
      "Accuracy :  0.611764705882\n",
      "======================================================\n",
      "Bernoulli NB\n",
      "             precision    recall  f1-score   support\n",
      "\n",
      "       -1.0       0.72      0.75      0.73       493\n",
      "        0.0       0.33      0.39      0.36       185\n",
      "        1.0       0.59      0.40      0.47       172\n",
      "\n",
      "avg / total       0.61      0.60      0.60       850\n",
      "\n",
      "Accuracy :  0.598823529412\n",
      "======================================================\n",
      "Multinomial NB\n",
      "             precision    recall  f1-score   support\n",
      "\n",
      "       -1.0       0.65      0.90      0.75       493\n",
      "        0.0       0.31      0.21      0.25       185\n",
      "        1.0       0.73      0.21      0.33       172\n",
      "\n",
      "avg / total       0.59      0.61      0.56       850\n",
      "\n",
      "Accuracy :  0.607058823529\n",
      "======================================================\n",
      "RandomForestClassifier\n",
      "             precision    recall  f1-score   support\n",
      "\n",
      "       -1.0       0.71      0.79      0.75       493\n",
      "        0.0       0.37      0.39      0.38       185\n",
      "        1.0       0.57      0.36      0.44       172\n",
      "\n",
      "avg / total       0.61      0.61      0.61       850\n",
      "\n",
      "Accuracy :  0.614117647059\n",
      "======================================================\n",
      "AdaBoostClassifier\n",
      "             precision    recall  f1-score   support\n",
      "\n",
      "       -1.0       0.66      0.84      0.74       493\n",
      "        0.0       0.32      0.19      0.24       185\n",
      "        1.0       0.50      0.32      0.39       172\n",
      "\n",
      "avg / total       0.55      0.59      0.56       850\n",
      "\n",
      "Accuracy :  0.594117647059\n",
      "======================================================\n",
      "======================================================\n",
      "======================================================\n"
     ]
    }
   ],
   "source": [
    "xlsx = pandas.ExcelFile(\"../Data/training-Obama-Romney-tweets.xlsx\")\n",
    "ObamaTrainSet = pandas.read_excel(xlsx, \"ObamaTrain\", parse_cols=[3,4])\n",
    "ObamaTestSet = pandas.read_excel(xlsx, \"ObamaTest\", parse_cols=[3,4])\n",
    "RomneyTrainSet = pandas.read_excel(xlsx, \"RomneyTrain\", parse_cols=[3,4])\n",
    "RomneyTestSet = pandas.read_excel(xlsx, \"RomneyTest\", parse_cols=[3,4])\n",
    "ObamaClassifiers(ObamaTrainSet,ObamaTestSet)\n",
    "RomneyClassifiers(RomneyTrainSet,RomneyTestSet)"
   ]
  },
  {
   "cell_type": "code",
   "execution_count": null,
   "metadata": {
    "collapsed": true
   },
   "outputs": [],
   "source": []
  }
 ],
 "metadata": {
  "anaconda-cloud": {},
  "kernelspec": {
   "display_name": "Python [default]",
   "language": "python",
   "name": "python3"
  },
  "language_info": {
   "codemirror_mode": {
    "name": "ipython",
    "version": 3
   },
   "file_extension": ".py",
   "mimetype": "text/x-python",
   "name": "python",
   "nbconvert_exporter": "python",
   "pygments_lexer": "ipython3",
   "version": "3.5.2"
  }
 },
 "nbformat": 4,
 "nbformat_minor": 1
}
